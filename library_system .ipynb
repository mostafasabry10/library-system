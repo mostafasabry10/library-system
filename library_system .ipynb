{
 "cells": [
  {
   "cell_type": "code",
   "execution_count": null,
   "metadata": {},
   "outputs": [
    {
     "name": "stdout",
     "output_type": "stream",
     "text": [
      "yes you can lend it\n",
      "{'taha': 'Python'}\n"
     ]
    }
   ],
   "source": [
    "# library systerm project 4.1\n",
    "class Library:\n",
    "        \n",
    "        def __init__(self,name_of_library,books_list = [],lended_books={}):\n",
    "            self.books_list = books_list\n",
    "            self.name_of_library = name_of_library\n",
    "            self.lended_books = lended_books\n",
    "\n",
    "        def available_books(self):\n",
    "            for i in self.lended_books :\n",
    "                if i in self.books_list:\n",
    "                    self.books_list.remove(i)\n",
    "            print (self.books_list)\n",
    "\n",
    "        def Lended_books(self,name,book_name) :\n",
    "            self.book_name = book_name\n",
    "            self.name=name\n",
    "            if self.book_name in self.books_list and self.book_name not in self.lended_books.values() :\n",
    "                self.books_list.remove(self.book_name)\n",
    "                self.lended_books[self.name]=self.book_name\n",
    "                print('yes you can lend it')\n",
    "                print(self.lended_books)\n",
    "            else :\n",
    "                print('sorry you can not')\n",
    "\n",
    "\n",
    "        def add_book (self,book_name) :\n",
    "            self.book_name = book_name\n",
    "            if self.book_name not in self.books_list and self.book_name not in self.lended_books.values():\n",
    "                self.books_list.append(self.book_name)\n",
    "                print (self.books_list)\n",
    "            elif self.book_name in self.books_list :\n",
    "                print(f'{self.book_name} is already exist in books list ')\n",
    "            else :\n",
    "                print(f'{self.book_name} is already exist in lended list ')\n",
    "                \n",
    "            \n",
    "        def Return_lended (self,return_book):\n",
    "            self.return_book = return_book\n",
    "            if self.return_book not in self.books_list and self.return_book in self.lended_books.values():\n",
    "                self.books_list.append(self.return_book)\n",
    "                print (f'the books list after book return is {self.books_list}')\n",
    "            else :\n",
    "                print('the book is already exist')\n",
    "        \n",
    "            \n",
    "\n",
    "# library systerm project 4.2\n",
    "harry = Library('CodeWithHarry',['Python', 'Rich Daddy Poor Daddy', 'Harry Potter', 'C++ Basics', 'Algorithms by CLRS'])\n",
    "while True :\n",
    "    n = int(input('please enter 1 to show available books,2 to lend a book ,3 to add a book,4 to return a book and 0 to end: '))\n",
    "    if n == 0 :\n",
    "        break\n",
    "    elif n == 1 :\n",
    "        harry.available_books()\n",
    "        \n",
    "    elif n == 2:\n",
    "        a = input('please enter your name : ')\n",
    "        b= input('please enter book you want to lend: ')\n",
    "        harry.Lended_books(a,b)\n",
    "    elif n == 3:\n",
    "        v = input('please enter book you want to add: ')\n",
    "        harry.add_book(v)\n",
    "    elif n == 4 :\n",
    "        c = input('please enter the name of the book you want to return: ')\n",
    "        harry.Return_lended(c)\n",
    "\n"
   ]
  },
  {
   "cell_type": "code",
   "execution_count": null,
   "metadata": {},
   "outputs": [],
   "source": []
  }
 ],
 "metadata": {
  "kernelspec": {
   "display_name": "Python 3",
   "language": "python",
   "name": "python3"
  },
  "language_info": {
   "codemirror_mode": {
    "name": "ipython",
    "version": 3
   },
   "file_extension": ".py",
   "mimetype": "text/x-python",
   "name": "python",
   "nbconvert_exporter": "python",
   "pygments_lexer": "ipython3",
   "version": "3.12.5"
  }
 },
 "nbformat": 4,
 "nbformat_minor": 4
}
